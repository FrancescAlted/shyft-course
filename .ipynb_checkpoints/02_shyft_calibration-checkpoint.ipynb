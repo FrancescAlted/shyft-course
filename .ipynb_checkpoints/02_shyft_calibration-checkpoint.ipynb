{
 "cells": [
  {
   "cell_type": "markdown",
   "metadata": {
    "collapsed": false
   },
   "source": [
    "Model Calibration\n",
    "=========\n",
    "\n",
    "### This notebook is guiding through the calibration process of a catchment. The following steps are described in detail:\n",
    "1. **Configuration of a calibration run**\n",
    "2. **Running a calibration**\n",
    "3. **Analyzing the calibration results**\n",
    "4. **Post-processing:** Nash-Sutcliffe model efficiency coefficient (NSE) of the calibration and validation perid"
   ]
  },
  {
   "cell_type": "markdown",
   "metadata": {},
   "source": [
    "<i>© Felix Matt, University of Oslo</i>"
   ]
  },
  {
   "cell_type": "code",
   "execution_count": 31,
   "metadata": {
    "collapsed": false
   },
   "outputs": [
    {
     "name": "stdout",
     "output_type": "stream",
     "text": [
      "Populating the interactive namespace from numpy and matplotlib\n"
     ]
    }
   ],
   "source": [
    "# python modules we use\n",
    "%pylab inline\n",
    "import os\n",
    "import sys\n",
    "from matplotlib import pyplot as plt"
   ]
  },
  {
   "cell_type": "markdown",
   "metadata": {
    "collapsed": true
   },
   "source": [
    "##1. Configuration of a calibration run\n",
    "\n",
    "* We use the **Calibrator**-object in orchestration2/shyft_runner.py to conduct a calibration\n",
    "* The settings of a calibration are set in the calibration.yaml file. In this file...\n",
    "    * the range of the calibration parameters are defined\n",
    "    * the goal function and target time series are defined\n",
    "    * the model configuration is defined by pointing to a model-configuration file, which is equal to the configuration.yaml file used for a regular simulation."
   ]
  },
  {
   "cell_type": "code",
   "execution_count": 32,
   "metadata": {
    "collapsed": true
   },
   "outputs": [],
   "source": [
    "# setting up the environment\n",
    "shyft_path = os.path.abspath(os.path.realpath('../hycamp/project_shyft/shyft'))\n",
    "sys.path.append(shyft_path)"
   ]
  },
  {
   "cell_type": "code",
   "execution_count": 33,
   "metadata": {
    "collapsed": true
   },
   "outputs": [],
   "source": [
    "# importing all necessary functions from the shyft_runner.py file.\n",
    "from shyft.orchestration2.shyft_runner import *"
   ]
  },
  {
   "cell_type": "code",
   "execution_count": 34,
   "metadata": {
    "collapsed": false
   },
   "outputs": [],
   "source": [
    "# set up the calibration configuration -> point to the calibration-config file\n",
    "config_file = \"./atnsjoen_catchment/calibration.yaml\"\n",
    "config_section = \"atnsjoen\"\n",
    "config = CalibrationConfig(config_file, config_section)\n"
   ]
  },
  {
   "cell_type": "code",
   "execution_count": 35,
   "metadata": {
    "collapsed": false
   },
   "outputs": [],
   "source": [
    "# set up the simulator\n",
    "calibrator = Calibrator(config)"
   ]
  },
  {
   "cell_type": "code",
   "execution_count": 36,
   "metadata": {
    "collapsed": false
   },
   "outputs": [],
   "source": [
    "# create a time axis\n",
    "time_axis = api.Timeaxis(config.model_config.start_time, config.model_config.run_time_step, config.model_config.number_of_steps) "
   ]
  },
  {
   "cell_type": "markdown",
   "metadata": {},
   "source": [
    "##2. Running a calibration"
   ]
  },
  {
   "cell_type": "code",
   "execution_count": 37,
   "metadata": {
    "collapsed": false
   },
   "outputs": [
    {
     "name": "stdout",
     "output_type": "stream",
     "text": [
      "1 wind_speed series found.\n",
      "4 radiation series found.\n",
      "2 precipitation series found.\n",
      "2 temperature series found.\n",
      "1 relative_humidity series found.\n",
      "Done with model setup/interpolation step\n",
      "atnsjoen discharge [0]\n"
     ]
    }
   ],
   "source": [
    "# Initialize the calibrator\n",
    "calibrator.init(time_axis)\n",
    "calibrator.calibrator.set_verbose_level(1)"
   ]
  },
  {
   "cell_type": "code",
   "execution_count": 38,
   "metadata": {
    "collapsed": false
   },
   "outputs": [
    {
     "name": "stdout",
     "output_type": "stream",
     "text": [
      "Calibrating...\n"
     ]
    }
   ],
   "source": [
    "# RUN THE CALIBRATION!\n",
    "calibr_results = calibrator.calibrate(tol=1.0e-5)"
   ]
  },
  {
   "cell_type": "markdown",
   "metadata": {},
   "source": [
    "##3. Analyzing the calibration results"
   ]
  },
  {
   "cell_type": "code",
   "execution_count": 39,
   "metadata": {
    "collapsed": false
   },
   "outputs": [
    {
     "name": "stdout",
     "output_type": "stream",
     "text": [
      "wind_const                    1.0\n",
      "max_albedo                    0.862454036981\n",
      "p_corr_scale_factor           1.02434887831\n",
      "fast_albedo_decay_rate        11.4649470219\n",
      "TX                            -0.749966771932\n",
      "glacier_albedo                0.4\n",
      "surface_magnitude             30.0\n",
      "snowfall_reset_depth          5.0\n",
      "wind_scale                    4.0\n",
      "slow_albedo_decay_rate        33.1153669435\n",
      "ae_scale_factor               0.639696593417\n",
      "c3                            -0.0708719383595\n",
      "c2                            0.632322214788\n",
      "c1                            -3.96251732645\n",
      "snow_cv                       0.4\n",
      "min_albedo                    0.366403295051\n",
      "max_water                     0.1\n"
     ]
    }
   ],
   "source": [
    "for key in calibr_results.keys():\n",
    "    print '{:30}{}'.format(key, calibr_results[key])\n",
    "    #print 'NSE: {:.2f}{}'.format(calibrator.calculate_goal_function(calibr_results))"
   ]
  },
  {
   "cell_type": "code",
   "execution_count": 40,
   "metadata": {
    "collapsed": false
   },
   "outputs": [
    {
     "name": "stdout",
     "output_type": "stream",
     "text": [
      "Storing calibrated params in: /home/hub-felixmatt/shyft-course/atnsjoen_catchment/model_calibrated.yaml\n"
     ]
    }
   ],
   "source": [
    "# save the calibration results\n",
    "calibrator.save_calibrated_model(config.calibrated_model_file, calibr_results)"
   ]
  },
  {
   "cell_type": "markdown",
   "metadata": {
    "collapsed": false
   },
   "source": [
    "##4. Post processing\n",
    "\n",
    "####For investigating the calibration quality, we rerun the model - now with the configuration.yaml pointing to the new model.yaml generated after the calibration. By doing this, the simulation will use the parameters obtained from the calibration."
   ]
  },
  {
   "cell_type": "code",
   "execution_count": 41,
   "metadata": {
    "collapsed": true
   },
   "outputs": [],
   "source": [
    "# load modules we need for post-processing\n",
    "from netCDF4 import Dataset\n",
    "import numpy as np\n",
    "import pandas as pd"
   ]
  },
  {
   "cell_type": "code",
   "execution_count": 42,
   "metadata": {
    "collapsed": false
   },
   "outputs": [],
   "source": [
    "# set up configuration\n",
    "config_file = \"./atnsjoen_catchment/configuration.yaml\"\n",
    "config_section = \"atnsjoen\"\n",
    "run_config = config_constructor(config_file, config_section)"
   ]
  },
  {
   "cell_type": "code",
   "execution_count": 43,
   "metadata": {
    "collapsed": true
   },
   "outputs": [],
   "source": [
    "# set up the simulator\n",
    "simulator = Simulator(run_config)"
   ]
  },
  {
   "cell_type": "code",
   "execution_count": 44,
   "metadata": {
    "collapsed": true
   },
   "outputs": [],
   "source": [
    "# create a time axis\n",
    "time_axis = api.Timeaxis(run_config.start_time, run_config.run_time_step, run_config.number_of_steps)"
   ]
  },
  {
   "cell_type": "code",
   "execution_count": 45,
   "metadata": {
    "collapsed": false
   },
   "outputs": [
    {
     "name": "stdout",
     "output_type": "stream",
     "text": [
      "1 wind_speed series found.\n",
      "4 radiation series found.\n",
      "2 precipitation series found.\n",
      "2 temperature series found.\n",
      "1 relative_humidity series found.\n",
      "Done with model setup/interpolation step\n"
     ]
    }
   ],
   "source": [
    "# build the model\n",
    "simulator.build_model(time_axis.start(), time_axis.delta(), time_axis.size())"
   ]
  },
  {
   "cell_type": "code",
   "execution_count": 60,
   "metadata": {
    "collapsed": false
   },
   "outputs": [],
   "source": [
    "# RUN THE MODEL!\n",
    "simulator.run_model()"
   ]
  },
  {
   "cell_type": "code",
   "execution_count": 61,
   "metadata": {
    "collapsed": false
   },
   "outputs": [],
   "source": [
    "# get simulated time series\n",
    "catchment_indeces=simulator.catchment_map\n",
    "discharge_sim_obj = simulator.model.statistics.discharge(api.IntVector(0))\n",
    "sim = [value for value in discharge_sim_obj.v]\n",
    "sim_time = [discharge_sim_obj.time(i) for i in range(len(sim))]\n",
    "sim_date = [datetime.datetime.utcfromtimestamp(t) for t in sim_time]"
   ]
  },
  {
   "cell_type": "code",
   "execution_count": 62,
   "metadata": {
    "collapsed": false
   },
   "outputs": [],
   "source": [
    "# load the discharge observations from file\n",
    "with Dataset(config.target[0]['file']) as dset:\n",
    "    catchment = dset.groups['atnsjoen']\n",
    "    obs = catchment.variables['discharge'][:]\n",
    "    obs_date = [datetime.datetime.utcfromtimestamp(t) for t in catchment.variables['time']]"
   ]
  },
  {
   "cell_type": "code",
   "execution_count": 63,
   "metadata": {
    "collapsed": false
   },
   "outputs": [],
   "source": [
    "# create Pandas Data Frame\n",
    "sim_ts = pd.Series(sim, index=sim_date)\n",
    "obs_ts = pd.Series(obs, index=obs_date)\n",
    "\n",
    "df = pd.DataFrame({'sim':sim_ts, 'obs':obs_ts})"
   ]
  },
  {
   "cell_type": "code",
   "execution_count": 64,
   "metadata": {
    "collapsed": false
   },
   "outputs": [
    {
     "data": {
      "text/plain": [
       "<matplotlib.axes._subplots.AxesSubplot at 0x7fb82680ce50>"
      ]
     },
     "execution_count": 64,
     "metadata": {},
     "output_type": "execute_result"
    },
    {
     "data": {
      "text/plain": [
       "<matplotlib.figure.Figure at 0x7fb722e913d0>"
      ]
     },
     "metadata": {},
     "output_type": "display_data"
    },
    {
     "data": {
      "image/png": "[encoded data removed]",
      "text/plain": [
       "<matplotlib.figure.Figure at 0x7fb722e91510>"
      ]
     },
     "metadata": {},
     "output_type": "display_data"
    }
   ],
   "source": [
    "# Plotting of results\n",
    "figure(figsize(16,8))\n",
    "df.plot()"
   ]
  },
  {
   "cell_type": "code",
   "execution_count": 65,
   "metadata": {
    "collapsed": false
   },
   "outputs": [],
   "source": [
    "def NSE(df):\n",
    "    # takes pandas dataframe with keys \"obs\" and \"sim\" and calculates Nash-Sutcliffe-Efficiency\n",
    "    obs = np.array(df['obs'])\n",
    "    sim = np.array(df['sim'])\n",
    "    mean_obs = np.mean(obs)\n",
    "    nom = np.sum((obs-sim)**2)\n",
    "    denom = np.sum((obs-np.mean(obs))**2)\n",
    "    return 1-nom/denom\n",
    "    "
   ]
  },
  {
   "cell_type": "code",
   "execution_count": 66,
   "metadata": {
    "collapsed": false
   },
   "outputs": [],
   "source": [
    "# get datetime objects of calibration period\n",
    "start_date = config.target[0]['1D_timeseries'][0]['start_datetime']\n",
    "step = config.target[0]['1D_timeseries'][0]['run_time_step']\n",
    "nr_of_steps = config.target[0]['1D_timeseries'][0]['number_of_steps']\n",
    "end_date = start_date + datetime.timedelta(seconds=step*nr_of_steps)"
   ]
  },
  {
   "cell_type": "code",
   "execution_count": 69,
   "metadata": {
    "collapsed": false
   },
   "outputs": [
    {
     "name": "stdout",
     "output_type": "stream",
     "text": [
      "NSE for the calibration period is 0.80.\n",
      "NSE for the year 2011 is 0.83.\n"
     ]
    }
   ],
   "source": [
    "# get NSE for the calibration period\n",
    "start_str = start_date.strftime('%Y-%m-%d')\n",
    "end_str = end_date.strftime('%Y-%m-%d')\n",
    "start_str=\"2007-07-01\"\n",
    "\n",
    "print \"NSE for the calibration period is {0:.2f}.\".format(NSE(df[start_str:end_str]))\n",
    "\n",
    "# NSE for a specific year\n",
    "year = '2011'\n",
    "print \"NSE for the year {0:} is {1:.2f}.\".format(year,NSE(df[year]))"
   ]
  },
  {
   "cell_type": "markdown",
   "metadata": {
    "collapsed": true
   },
   "source": [
    "Exercise - Model validation and verification\n",
    "====\n",
    "\n",
    "###Differential-Split-Sample validation\n",
    "Use one part of the data for calibration (2006-07-01 until 2009-07-01) and the other\n",
    "for validation (2009-07-01 until 2011-07-01). Save the calibration results and calculate the NSE for the calibration and validation period, respectively. Then swap the calibration and evaluation periods. Recalibrate with the new period, safe the calibration results and calculate the NSE for the new calibration and evaluation periods. Compare the calibrated model parameters of the two calibration periods."
   ]
  }
 ],
 "metadata": {
  "kernelspec": {
   "display_name": "Python 2.X",
   "language": "python",
   "name": "py2"
  },
  "language_info": {
   "codemirror_mode": {
    "name": "ipython",
    "version": 2
   },
   "file_extension": ".py",
   "mimetype": "text/x-python",
   "name": "python",
   "nbconvert_exporter": "python",
   "pygments_lexer": "ipython2",
   "version": "2.7.10"
  }
 },
 "nbformat": 4,
 "nbformat_minor": 0
}
