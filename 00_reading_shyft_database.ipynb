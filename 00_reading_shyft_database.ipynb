{
 "cells": [
  {
   "cell_type": "markdown",
   "metadata": {},
   "source": [
    "# Reading data from the Netcdf database using the netCDF4 module"
   ]
  },
  {
   "cell_type": "markdown",
   "metadata": {},
   "source": [
    "So far, two  database types are supported by the current version of SHyFT:\n",
    "- Statkraft internal database (\"orchestration\"); very limited access\n",
    "- NETCDF database (\"orchestration2\")\n",
    "\n",
    "Here we focus on the NETCDF database!\n"
   ]
  },
  {
   "cell_type": "code",
   "execution_count": 6,
   "metadata": {
    "collapsed": false
   },
   "outputs": [],
   "source": [
    "from netCDF4  import Dataset"
   ]
  },
  {
   "cell_type": "code",
   "execution_count": 27,
   "metadata": {
    "collapsed": false
   },
   "outputs": [],
   "source": [
    "# path to the dataset files\n",
    "import os\n",
    "data_path = os.path.abspath(os.path.realpath('../atnsjoen_catchment/data/'))\n"
   ]
  },
  {
   "cell_type": "markdown",
   "metadata": {},
   "source": [
    "####The database exists of three files:\n",
    "- Meteorologiccal observations\n",
    "- Discharge observatioons\n",
    "- Land surface data"
   ]
  },
  {
   "cell_type": "code",
   "execution_count": 32,
   "metadata": {
    "collapsed": false
   },
   "outputs": [
    {
     "name": "stdout",
     "output_type": "stream",
     "text": [
      "atnsjoen_cell_info.nc\n",
      "atnsjoen_discharge.nc\n",
      "atnsjoen_met.nc\n"
     ]
    }
   ],
   "source": [
    "for filename in os.listdir(data_path):\n",
    "    print filename"
   ]
  },
  {
   "cell_type": "markdown",
   "metadata": {},
   "source": [
    "##Meteorological observations"
   ]
  },
  {
   "cell_type": "code",
   "execution_count": 33,
   "metadata": {
    "collapsed": false
   },
   "outputs": [],
   "source": [
    "fn_met = \"atnsjoen_met.nc\"\n",
    "\n",
    "# opening the file\n",
    "with Dataseet(fn_met))\n"
   ]
  },
  {
   "cell_type": "code",
   "execution_count": 22,
   "metadata": {
    "collapsed": true
   },
   "outputs": [],
   "source": [
    "a='/home/felix/.mnts/net/nunatak/mn/nunatak/hycamp/project_shyft/shyft_course'\n",
    "\n"
   ]
  },
  {
   "cell_type": "code",
   "execution_count": 24,
   "metadata": {
    "collapsed": false
   },
   "outputs": [
    {
     "name": "stdout",
     "output_type": "stream",
     "text": [
      "ls: cannot access a: No such file or directory\r\n"
     ]
    }
   ],
   "source": [
    "!ls a\n"
   ]
  },
  {
   "cell_type": "code",
   "execution_count": null,
   "metadata": {
    "collapsed": true
   },
   "outputs": [],
   "source": []
  }
 ],
 "metadata": {
  "kernelspec": {
   "display_name": "Python 2",
   "language": "python",
   "name": "python2"
  },
  "language_info": {
   "codemirror_mode": {
    "name": "ipython",
    "version": 2
   },
   "file_extension": ".py",
   "mimetype": "text/x-python",
   "name": "python",
   "nbconvert_exporter": "python",
   "pygments_lexer": "ipython2",
   "version": "2.7.10"
  }
 },
 "nbformat": 4,
 "nbformat_minor": 0
}
