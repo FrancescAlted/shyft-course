{
 "cells": [
  {
   "cell_type": "code",
   "execution_count": 23,
   "metadata": {
    "collapsed": true
   },
   "outputs": [],
   "source": [
    "# python modules we use\n",
    "import os\n",
    "import sys\n",
    "from matplotlib import pyplot as plt"
   ]
  },
  {
   "cell_type": "code",
   "execution_count": null,
   "metadata": {
    "collapsed": true
   },
   "outputs": [],
   "source": []
  },
  {
   "cell_type": "code",
   "execution_count": 24,
   "metadata": {
    "collapsed": true
   },
   "outputs": [],
   "source": [
    "# setting up the environment\n",
    "shyft_path = os.path.abspath(os.path.realpath('../hycamp/project_shyft/shyft'))\n",
    "sys.path.append(shyft_path)"
   ]
  },
  {
   "cell_type": "code",
   "execution_count": 25,
   "metadata": {
    "collapsed": true
   },
   "outputs": [],
   "source": [
    " from shyft.orchestration2.shyft_runner import *"
   ]
  },
  {
   "cell_type": "code",
   "execution_count": 26,
   "metadata": {
    "collapsed": false
   },
   "outputs": [],
   "source": [
    "# set up configuration\n",
    "config_file = \"./atnsjoen_catchment/calibration.yaml\"\n",
    "config_section = \"atnsjoen\"\n",
    "config = CalibrationConfig(config_file, config_section)\n"
   ]
  },
  {
   "cell_type": "code",
   "execution_count": 27,
   "metadata": {
    "collapsed": false
   },
   "outputs": [],
   "source": [
    "# set up the simulator\n",
    "calibrator = Calibrator(config)"
   ]
  },
  {
   "cell_type": "code",
   "execution_count": 28,
   "metadata": {
    "collapsed": false
   },
   "outputs": [],
   "source": [
    "# create a time axis\n",
    "time_axis = api.Timeaxis(config.model_config.start_time, config.model_config.run_time_step, config.model_config.number_of_steps) "
   ]
  },
  {
   "cell_type": "code",
   "execution_count": 29,
   "metadata": {
    "collapsed": false
   },
   "outputs": [
    {
     "name": "stdout",
     "output_type": "stream",
     "text": [
      "5 wind_speed series found.\n",
      "1 radiation series found.\n",
      "2 precipitation series found.\n",
      "2 temperature series found.\n",
      "1 relative_humidity series found.\n",
      "Done with model setup/interpolation step\n",
      "atnsjoen discharge [0]\n",
      "Calibrator catchment index = [{'internal_id': 'atnsjoen', 'catch_id': [1]}]\n"
     ]
    }
   ],
   "source": [
    "# Initialize the calibrator\n",
    "calibrator.init(time_axis)\n",
    "calibrator.calibrator.set_verbose_level(1)"
   ]
  },
  {
   "cell_type": "code",
   "execution_count": 56,
   "metadata": {
    "collapsed": false
   },
   "outputs": [
    {
     "name": "stdout",
     "output_type": "stream",
     "text": [
      "Calibrating...\n"
     ]
    }
   ],
   "source": [
    "# RUN THE CALIBRATION!\n",
    "calibr_results = calibrator.calibrate(tol=1.0e-5)"
   ]
  },
  {
   "cell_type": "code",
   "execution_count": 55,
   "metadata": {
    "collapsed": false
   },
   "outputs": [
    {
     "name": "stdout",
     "output_type": "stream",
     "text": [
      "wind_const                    1.0\n",
      "max_albedo                    0.999869505569\n",
      "p_corr_scale_factor           1.0626850716\n",
      "fast_albedo_decay_rate        11.559230898\n",
      "TX                            0.460644605192\n",
      "glacier_albedo                0.4\n",
      "surface_magnitude             30.0\n",
      "snowfall_reset_depth          5.0\n",
      "wind_scale                    0.361484623245\n",
      "slow_albedo_decay_rate        35.068910805\n",
      "ae_scale_factor               0.883940233255\n",
      "c3                            -0.0576952850277\n",
      "c2                            0.635572009024\n",
      "c1                            -4.23683219445\n",
      "snow_cv                       0.4\n",
      "min_albedo                    0.407453875181\n",
      "max_water                     0.1\n"
     ]
    }
   ],
   "source": [
    "for key in calibr_results.keys():\n",
    "    print '{:30}{}'.format(key, calibr_results[key])"
   ]
  },
  {
   "cell_type": "code",
   "execution_count": null,
   "metadata": {
    "collapsed": true
   },
   "outputs": [],
   "source": [
    "# save the calibration results\n",
    "calibrator.save_calibrated_model(config.calibrated_model_file, calibr_results)"
   ]
  },
  {
   "cell_type": "code",
   "execution_count": 36,
   "metadata": {
    "collapsed": false
   },
   "outputs": [],
   "source": [
    "discharge = calibrator.target_ts['discharge']"
   ]
  },
  {
   "cell_type": "code",
   "execution_count": 47,
   "metadata": {
    "collapsed": false
   },
   "outputs": [],
   "source": [
    "# todo: get discharge time series; run a simulation; get simulation time series; define NSE function; compare and plot; Why is NSE low?; -> Compare only for actual calibration time. Get NSE for evaluation time! -> read discharge from  source file!!"
   ]
  },
  {
   "cell_type": "code",
   "execution_count": null,
   "metadata": {
    "collapsed": true
   },
   "outputs": [],
   "source": []
  }
 ],
 "metadata": {
  "kernelspec": {
   "display_name": "Python 2.X",
   "language": "python",
   "name": "py2"
  },
  "language_info": {
   "codemirror_mode": {
    "name": "ipython",
    "version": 2
   },
   "file_extension": ".py",
   "mimetype": "text/x-python",
   "name": "python",
   "nbconvert_exporter": "python",
   "pygments_lexer": "ipython2",
   "version": "2.7.10"
  }
 },
 "nbformat": 4,
 "nbformat_minor": 0
}
